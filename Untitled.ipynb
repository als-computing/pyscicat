{
 "cells": [
  {
   "cell_type": "code",
   "execution_count": 2,
   "id": "2ae2b911-f7e8-49d8-886c-b9e6f55a2e04",
   "metadata": {},
   "outputs": [],
   "source": [
    "from scicat_ingest.ingestor import ScicatIngestor"
   ]
  },
  {
   "cell_type": "code",
   "execution_count": null,
   "id": "5b28d9d2-eff1-4442-8350-49376d49e376",
   "metadata": {},
   "outputs": [],
   "source": []
  }
 ],
 "metadata": {
  "kernelspec": {
   "display_name": "tiled",
   "language": "python",
   "name": "tiled"
  },
  "language_info": {
   "codemirror_mode": {
    "name": "ipython",
    "version": 3
   },
   "file_extension": ".py",
   "mimetype": "text/x-python",
   "name": "python",
   "nbconvert_exporter": "python",
   "pygments_lexer": "ipython3",
   "version": "3.9.2"
  }
 },
 "nbformat": 4,
 "nbformat_minor": 5
}
